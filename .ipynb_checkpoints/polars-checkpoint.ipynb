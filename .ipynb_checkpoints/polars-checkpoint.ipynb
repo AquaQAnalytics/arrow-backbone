{
 "cells": [
  {
   "cell_type": "code",
   "execution_count": null,
   "id": "e2dff9a6",
   "metadata": {},
   "outputs": [],
   "source": [
    "import pyarrow.dataset as ds\n",
    "import polars as pl\n",
    "from datetime import datetime\n",
    "%load_ext memory_profiler\n",
    "import time"
   ]
  },
  {
   "cell_type": "code",
   "execution_count": null,
   "id": "e87fdded",
   "metadata": {},
   "outputs": [],
   "source": [
    "data =  ds.dataset(\"~/internal/data/trade_taq2019.arrow\", format = \"arrow\")\n",
    "data = pl.scan_ds(data, allow_pyarrow_filter=True)"
   ]
  },
  {
   "cell_type": "code",
   "execution_count": null,
   "id": "b7174a93",
   "metadata": {},
   "outputs": [],
   "source": [
    "def window(data):\n",
    "    \n",
    "    # QUERY\n",
    "    start = time.process_time()\n",
    "    print(\"running window query...\")\n",
    "    data = data.filter(\n",
    "        (pl.col(\"Symbol\") == \"AAPL\")&\n",
    "        (pl.col(\"Sale_Condition\").str.contains(\"O\"))&\n",
    "        (pl.col(\"Time\").is_between(datetime(2019,10,7,9,30), datetime(2019,10,7,16,0)))\n",
    "    ).collect()\n",
    "    \n",
    "    \n",
    "    return data\n",
    "\n",
    "%memit window(data)"
   ]
  },
  {
   "cell_type": "code",
   "execution_count": null,
   "id": "18d9ceb9",
   "metadata": {},
   "outputs": [],
   "source": [
    "def agg(data):\n",
    "    \n",
    "    #sort the data first\n",
    "    print(\"Sorting on time first...\")\n",
    "    data = data.sort(\"Time\")\n",
    "    \n",
    "    #run the agg query\n",
    "    print(\"running query now\")\n",
    "    \n",
    "    data = data.groupby_dynamic(index_column=\"Time\", every=\"1m\", period=\"1m\", by=\"Symbol\").agg(\n",
    "    [\n",
    "        pl.col(\"Trade_Volume\").sum().alias(\"Total_vol\")\n",
    "    ]).sort(\"Time\").collect()\n",
    "    \n",
    "    return data\n",
    "\n",
    "%memit agg(data)\n"
   ]
  },
  {
   "cell_type": "code",
   "execution_count": null,
   "id": "21b11106",
   "metadata": {},
   "outputs": [],
   "source": [
    "def other(data):\n",
    "    \n",
    "    print (\"running query...\")\n",
    "    out = data.groupby([\"Symbol\",\"Exchange\"]).agg(\n",
    "        [\n",
    "            pl.col(\"Trade_Price\").mean().alias(\"avg price\"),\n",
    "            pl.col(\"Trade_Volume\").mean().alias(\"avg volume\")\n",
    "        ]\n",
    "    ).sort(\"avg price\", reverse = True).collect()\n",
    "    \n",
    "    return out\n",
    "    \n",
    "%memit other(data)\n"
   ]
  },
  {
   "cell_type": "code",
   "execution_count": null,
   "id": "103c3367",
   "metadata": {},
   "outputs": [],
   "source": [
    "#data ingest of the bigger datset\n",
    "data = ds.dataset(\"~/internal/data/quote_taq2019.arrow\", format = \"arrow\")\n",
    "data = pl.scan_ds(data)\n"
   ]
  },
  {
   "cell_type": "code",
   "execution_count": null,
   "id": "e4ff26e2",
   "metadata": {},
   "outputs": [],
   "source": [
    "def bagg(data):\n",
    "\n",
    "    print(\"sorting on time\")\n",
    "    data = data.sort(\"Time\")\n",
    "\n",
    "    #QUERY\n",
    "    print(\"running big query\")\n",
    "    data = data.groupby_dynamic(index_column=\"Time\", every=\"1h\", period=\"1h\", by=\"Symbol\").agg(\n",
    "            [\n",
    "                (0.5*(pl.col(\"Bid_Price\")+pl.col(\"Offer_Price\")).mean()).alias(\"mid\"),\n",
    "                pl.col(\"Time\").min().alias(\"min_time\"),\n",
    "                pl.col(\"Time\").max().alias(\"max_time\")\n",
    "\n",
    "                ]\n",
    "            ).sort(\"Time\").collect()\n",
    "\n",
    "    return data\n",
    "\n",
    "%memit bagg(data)"
   ]
  }
 ],
 "metadata": {
  "kernelspec": {
   "display_name": "Python 3 (ipykernel)",
   "language": "python",
   "name": "python3"
  },
  "language_info": {
   "codemirror_mode": {
    "name": "ipython",
    "version": 3
   },
   "file_extension": ".py",
   "mimetype": "text/x-python",
   "name": "python",
   "nbconvert_exporter": "python",
   "pygments_lexer": "ipython3",
   "version": "3.10.9"
  }
 },
 "nbformat": 4,
 "nbformat_minor": 5
}
