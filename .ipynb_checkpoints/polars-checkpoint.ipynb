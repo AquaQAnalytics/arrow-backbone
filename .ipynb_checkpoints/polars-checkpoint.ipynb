{
 "cells": [
  {
   "cell_type": "code",
   "execution_count": null,
   "id": "e2dff9a6",
   "metadata": {},
   "outputs": [],
   "source": [
    "import pyarrow.dataset as ds\n",
    "import polars as pl\n",
    "from datetime import datetime\n",
    "%load_ext memory_profiler\n",
    "import time"
   ]
  },
  {
   "cell_type": "code",
   "execution_count": null,
   "id": "e87fdded",
   "metadata": {},
   "outputs": [],
   "source": [
    "data = ds.dataset(\"~/internal/data/trade_taq2019.arrow\", format = \"arrow\")"
   ]
  },
  {
   "cell_type": "code",
   "execution_count": null,
   "id": "b7174a93",
   "metadata": {},
   "outputs": [],
   "source": [
    "def window(data):\n",
    "    \n",
    "    # make the scanner\n",
    "    print(\"data into scan...\")\n",
    "    data = pl.scan_ds(data, allow_pyarrow_filter=True)\n",
    "    \n",
    "    # QUERY\n",
    "    print(\"running window query...\")\n",
    "    results = data.filter(\n",
    "        (pl.col(\"Symbol\") == \"AAPL\")&\n",
    "        (pl.col(\"Sale_Condition\").str.contains(\"O\"))&\n",
    "        (pl.col(\"Time\").is_between(datetime(2019,10,7,9,30), datetime(2019,10,7,16,0)))\n",
    "    )\n",
    "    \n",
    "    \n",
    "    return results\n",
    "\n",
    "query = window(data)\n",
    "\n",
    "result=query.collect()\n",
    "result"
   ]
  },
  {
   "cell_type": "code",
   "execution_count": null,
   "id": "18d9ceb9",
   "metadata": {},
   "outputs": [],
   "source": [
    "def agg(data):\n",
    "    \n",
    "    data = pl.scan_ds(data, allow_pyarrow_filter=True)\n",
    "    \n",
    "    #sort the data first\n",
    "    print(\"Sorting on time first...\")\n",
    "    data = data.sort(\"Time\")\n",
    "    \n",
    "    #run the agg query\n",
    "    print(\"running query now\")\n",
    "    \n",
    "    result = data.groupby_dynamic(index_column=\"Time\", every=\"1h\", period=\"1h\", by=\"Symbol\").agg(\n",
    "    [\n",
    "        pl.col(\"Trade_Volume\").sum().alias(\"Total_vol\")\n",
    "    ])\n",
    "    \n",
    "    return result\n",
    "\n",
    "query = agg(data)\n",
    "result = query.collect()\n",
    "result"
   ]
  },
  {
   "cell_type": "code",
   "execution_count": null,
   "id": "21b11106",
   "metadata": {},
   "outputs": [],
   "source": [
    "def newagg(data):\n",
    "    \n",
    "    data = pl.scan_ds(data, allow_pyarrow_filter=True)\n",
    "    print (\"running query...\")\n",
    "    result = data.groupby([\"Symbol\",\"Exchange\"]).agg(\n",
    "        [\n",
    "            pl.col(\"Trade_Price\").mean().alias(\"avg price\"),\n",
    "            pl.col(\"Trade_Volume\").mean().alias(\"avg volume\")\n",
    "        ]\n",
    "    ).sort(\"avg price\", reverse = True)\n",
    "    \n",
    "    return result\n",
    "    \n",
    "query = newagg(data)\n",
    "result = query.collect()\n",
    "result"
   ]
  },
  {
   "cell_type": "code",
   "execution_count": null,
   "id": "103c3367",
   "metadata": {},
   "outputs": [],
   "source": [
    "#data ingest of the bigger datset\n",
    "data = ds.dataset(\"~/internal/data/quote_taq2019.arrow\", format = \"arrow\")\n"
   ]
  },
  {
   "cell_type": "code",
   "execution_count": null,
   "id": "e4ff26e2",
   "metadata": {},
   "outputs": [],
   "source": [
    "def bagg(data):\n",
    "\n",
    "    data = pl.scan_ds(data)\n",
    "    print(\"sorting on time\")\n",
    "    data = data.sort(\"Time\")\n",
    "\n",
    "    #QUERY\n",
    "    print(\"running big query\")\n",
    "    data = data.groupby_dynamic(index_column=\"Time\", every=\"1h\", period=\"1h\", by=\"Symbol\").agg(\n",
    "            [\n",
    "                (0.5*(pl.col(\"Bid_Price\")+pl.col(\"Offer_Price\")).mean()).alias(\"mid\"),\n",
    "                pl.col(\"Time\").min().alias(\"min_time\"),\n",
    "                pl.col(\"Time\").max().alias(\"max_time\")\n",
    "\n",
    "                ]\n",
    "            ).sort(\"Time\")\n",
    "    return data\n",
    "\n",
    "query = bagg(data)\n",
    "result = query.collect()\n",
    "result"
   ]
  },
  {
   "cell_type": "code",
   "execution_count": null,
   "id": "236da22a",
   "metadata": {},
   "outputs": [],
   "source": [
    "# set up scanner\n",
    "data = pl.scan_ds(data, allow_pyarrow_filter=True)\n",
    "\n",
    "# query\n",
    "data.filter(\n",
    "    (pl.col(\"Symbol\") == \"AAPL\")&\n",
    "    (pl.col(\"Sale_Condition\").str.contains(\"O\"))&\n",
    "    (pl.col(\"Time\").is_between(datetime(2019,10,7,9,30), datetime(2019,10,7,16,0)))\n",
    ")\n",
    "\n",
    "# collect result\n",
    "query.collect()"
   ]
  },
  {
   "cell_type": "code",
   "execution_count": null,
   "id": "929c8721",
   "metadata": {},
   "outputs": [],
   "source": [
    "# set up scanner\n",
    "data = pl.scan_ds(data, allow_pyarrow_filter=True)\n",
    "\n",
    "# sort the data first\n",
    "data = data.sort(\"Time\")\n",
    "\n",
    "# query\n",
    "data.groupby_dynamic(index_column=\"Time\", every=\"1h\", period=\"1h\", by=\"Symbol\").agg(\n",
    "[\n",
    "    pl.col(\"Trade_Volume\").sum().alias(\"Total_vol\")\n",
    "])\n",
    "\n",
    "# collect result\n",
    "query.collect()"
   ]
  },
  {
   "cell_type": "code",
   "execution_count": null,
   "id": "75880541",
   "metadata": {},
   "outputs": [],
   "source": [
    "# set up scanner\n",
    "data = pl.scan_ds(data)\n",
    "\n",
    "# sort the data first\n",
    "data = data.sort(\"Time\")\n",
    "\n",
    "# query\n",
    "data.groupby_dynamic(index_column=\"Time\", every=\"1h\", period=\"1h\", by=\"Symbol\").agg(\n",
    "[\n",
    "    (0.5*(pl.col(\"Bid_Price\")+pl.col(\"Offer_Price\")).mean()).alias(\"mid\"),\n",
    "        pl.col(\"Time\").min().alias(\"min_time\"),\n",
    "        pl.col(\"Time\").max().alias(\"max_time\")\n",
    "]).sort(\"Time\")\n",
    "\n",
    "# collect query\n",
    "query.collect()"
   ]
  }
 ],
 "metadata": {
  "kernelspec": {
   "display_name": "Python 3 (ipykernel)",
   "language": "python",
   "name": "python3"
  },
  "language_info": {
   "codemirror_mode": {
    "name": "ipython",
    "version": 3
   },
   "file_extension": ".py",
   "mimetype": "text/x-python",
   "name": "python",
   "nbconvert_exporter": "python",
   "pygments_lexer": "ipython3",
   "version": "3.11.0"
  }
 },
 "nbformat": 4,
 "nbformat_minor": 5
}
