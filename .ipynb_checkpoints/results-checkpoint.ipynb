{
 "cells": [
  {
   "cell_type": "code",
   "execution_count": 1,
   "id": "788fe05a",
   "metadata": {},
   "outputs": [],
   "source": [
    "import pandas as pd"
   ]
  },
  {
   "cell_type": "code",
   "execution_count": 2,
   "id": "0c55be98",
   "metadata": {},
   "outputs": [
    {
     "data": {
      "text/html": [
       "<div>\n",
       "<style scoped>\n",
       "    .dataframe tbody tr th:only-of-type {\n",
       "        vertical-align: middle;\n",
       "    }\n",
       "\n",
       "    .dataframe tbody tr th {\n",
       "        vertical-align: top;\n",
       "    }\n",
       "\n",
       "    .dataframe thead th {\n",
       "        text-align: right;\n",
       "    }\n",
       "</style>\n",
       "<table border=\"1\" class=\"dataframe\">\n",
       "  <thead>\n",
       "    <tr style=\"text-align: right;\">\n",
       "      <th></th>\n",
       "      <th>DuckDB [MiB]</th>\n",
       "      <th>Polars [MiB]</th>\n",
       "      <th>Vaex [MiB]</th>\n",
       "    </tr>\n",
       "  </thead>\n",
       "  <tbody>\n",
       "    <tr>\n",
       "      <th>Window</th>\n",
       "      <td>514</td>\n",
       "      <td>1820</td>\n",
       "      <td>851</td>\n",
       "    </tr>\n",
       "    <tr>\n",
       "      <th>Agg-Trade</th>\n",
       "      <td>802.1</td>\n",
       "      <td>2930</td>\n",
       "      <td>2450</td>\n",
       "    </tr>\n",
       "    <tr>\n",
       "      <th>Agg-Quote</th>\n",
       "      <td>1090</td>\n",
       "      <td>7590</td>\n",
       "      <td>5450</td>\n",
       "    </tr>\n",
       "  </tbody>\n",
       "</table>\n",
       "</div>"
      ],
      "text/plain": [
       "          DuckDB [MiB] Polars [MiB] Vaex [MiB]\n",
       "Window             514         1820        851\n",
       "Agg-Trade        802.1         2930       2450\n",
       "Agg-Quote         1090         7590       5450"
      ]
     },
     "execution_count": 2,
     "metadata": {},
     "output_type": "execute_result"
    }
   ],
   "source": [
    "d = {\n",
    "    'DuckDB [MiB]': ['514', '802.1', '1090'],\n",
    "    'Polars [MiB]': ['1820', '2930', '7590'],\n",
    "    'Vaex [MiB]': ['851', '2450', '5450']\n",
    "}\n",
    "df = pd.DataFrame(data=d, index=['Window','Agg-Trade','Agg-Quote'])\n",
    "df"
   ]
  },
  {
   "cell_type": "code",
   "execution_count": 3,
   "id": "0f7c71fc",
   "metadata": {},
   "outputs": [
    {
     "data": {
      "text/html": [
       "<div>\n",
       "<style scoped>\n",
       "    .dataframe tbody tr th:only-of-type {\n",
       "        vertical-align: middle;\n",
       "    }\n",
       "\n",
       "    .dataframe tbody tr th {\n",
       "        vertical-align: top;\n",
       "    }\n",
       "\n",
       "    .dataframe thead th {\n",
       "        text-align: right;\n",
       "    }\n",
       "</style>\n",
       "<table border=\"1\" class=\"dataframe\">\n",
       "  <thead>\n",
       "    <tr style=\"text-align: right;\">\n",
       "      <th></th>\n",
       "      <th>DuckDB [ms]</th>\n",
       "      <th>Polars [ms]</th>\n",
       "      <th>Vaex [ms]</th>\n",
       "    </tr>\n",
       "  </thead>\n",
       "  <tbody>\n",
       "    <tr>\n",
       "      <th>Window</th>\n",
       "      <td>284</td>\n",
       "      <td>560</td>\n",
       "      <td>73.1</td>\n",
       "    </tr>\n",
       "    <tr>\n",
       "      <th>Agg-Trade</th>\n",
       "      <td>708</td>\n",
       "      <td>2430</td>\n",
       "      <td>2450</td>\n",
       "    </tr>\n",
       "    <tr>\n",
       "      <th>Agg-Quote</th>\n",
       "      <td>1510</td>\n",
       "      <td>7120</td>\n",
       "      <td>3360</td>\n",
       "    </tr>\n",
       "  </tbody>\n",
       "</table>\n",
       "</div>"
      ],
      "text/plain": [
       "          DuckDB [ms] Polars [ms] Vaex [ms]\n",
       "Window            284         560      73.1\n",
       "Agg-Trade         708        2430      2450\n",
       "Agg-Quote        1510        7120      3360"
      ]
     },
     "execution_count": 3,
     "metadata": {},
     "output_type": "execute_result"
    }
   ],
   "source": [
    "d = {\n",
    "    'DuckDB [ms]': ['284', '708', '1510'],\n",
    "    'Polars [ms]': ['560', '2430', '7120'],\n",
    "    'Vaex [ms]': ['73.1', '2450', '3360']\n",
    "}\n",
    "df = pd.DataFrame(data=d, index=['Window','Agg-Trade','Agg-Quote'])\n",
    "df"
   ]
  }
 ],
 "metadata": {
  "kernelspec": {
   "display_name": "Python 3 (ipykernel)",
   "language": "python",
   "name": "python3"
  },
  "language_info": {
   "codemirror_mode": {
    "name": "ipython",
    "version": 3
   },
   "file_extension": ".py",
   "mimetype": "text/x-python",
   "name": "python",
   "nbconvert_exporter": "python",
   "pygments_lexer": "ipython3",
   "version": "3.11.0"
  }
 },
 "nbformat": 4,
 "nbformat_minor": 5
}
