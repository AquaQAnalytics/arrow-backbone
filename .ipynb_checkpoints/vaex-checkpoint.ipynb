{
 "cells": [
  {
   "cell_type": "code",
   "execution_count": null,
   "id": "b7c9ccde",
   "metadata": {},
   "outputs": [],
   "source": [
    "import vaex\n",
    "import numpy\n",
    "from datetime import datetime\n",
    "import numpy as np\n",
    "%load_ext memory_profiler\n",
    "import pandas as pd"
   ]
  },
  {
   "cell_type": "code",
   "execution_count": null,
   "id": "b4db563f",
   "metadata": {},
   "outputs": [],
   "source": [
    "trade = vaex.open(\"/home/crichman/data/trade_taq2019.arrow\")\n",
    "quote = vaex.open(\"/home/crichman/data/quote_taq2019.arrow\")"
   ]
  },
  {
   "cell_type": "code",
   "execution_count": null,
   "id": "d07c6d4e",
   "metadata": {},
   "outputs": [],
   "source": [
    "result = trade[(trade['Symbol'] == 'AAPL') & \n",
    "      (trade['Sale_Condition'].str.contains('O')) & \n",
    "      (trade['Time'] >= np.datetime64('2019-10-07 09:30')) & \n",
    "      (trade['Time'] <= np.datetime64('2019-10-07 16:00'))]\n",
    "\n",
    "result"
   ]
  },
  {
   "cell_type": "code",
   "execution_count": null,
   "id": "2b164c96",
   "metadata": {},
   "outputs": [],
   "source": [
    "result = trade.groupby(by = [trade.Symbol,vaex.BinnerTime(quote.Time,'h')],\n",
    "              agg = {\"Total_vol\": vaex.agg.sum(\"Trade_Volume\")})\n",
    "\n",
    "result"
   ]
  },
  {
   "cell_type": "code",
   "execution_count": null,
   "id": "04130abe",
   "metadata": {},
   "outputs": [],
   "source": [
    "result = quote.groupby(by = [quote.Symbol,vaex.BinnerTime(quote.Time,'h')],\n",
    "              agg = {'mid': vaex.agg.mean('Offer_Price+Bid_Price/2')})\n",
    "\n",
    "result"
   ]
  }
 ],
 "metadata": {
  "kernelspec": {
   "display_name": "Python 3 (ipykernel)",
   "language": "python",
   "name": "python3"
  },
  "language_info": {
   "codemirror_mode": {
    "name": "ipython",
    "version": 3
   },
   "file_extension": ".py",
   "mimetype": "text/x-python",
   "name": "python",
   "nbconvert_exporter": "python",
   "pygments_lexer": "ipython3",
   "version": "3.11.0"
  }
 },
 "nbformat": 4,
 "nbformat_minor": 5
}
