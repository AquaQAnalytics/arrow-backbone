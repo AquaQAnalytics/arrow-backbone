{
 "cells": [
  {
   "cell_type": "code",
   "execution_count": null,
   "id": "1af544d2",
   "metadata": {},
   "outputs": [],
   "source": [
    "con.query(\"SELECT DATE_TRUNC('hour', Time) AS hour, Symbol, AVG(0.5*(Offer_Price+Bid_Price)) AS mid FROM quote GROUP BY Symbol, hour ORDER BY hour\").df()"
   ]
  }
 ],
 "metadata": {
  "kernelspec": {
   "display_name": "Python 3 (ipykernel)",
   "language": "python",
   "name": "python3"
  }
 },
 "nbformat": 4,
 "nbformat_minor": 5
}
