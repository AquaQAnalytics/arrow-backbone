{
 "cells": [
  {
   "cell_type": "code",
   "execution_count": null,
   "id": "87d3640a",
   "metadata": {},
   "outputs": [],
   "source": [
    "import pyarrow as pa\n",
    "import pyarrow.dataset as ds\n",
    "import duckdb\n",
    "import polars as pl\n",
    "%load_ext memory_profiler\n",
    "%load_ext line_profiler\n",
    "%load_ext memory_magics"
   ]
  },
  {
   "cell_type": "code",
   "execution_count": null,
   "id": "e5b8dca9",
   "metadata": {},
   "outputs": [],
   "source": [
    "# data ingest and sort\n",
    "trade = ds.dataset(\"~/data/trade_taq2019.arrow\", format = \"arrow\")\n",
    "quote = ds.dataset(\"~/data/quote_taq2019.arrow\", format = \"arrow\")\n",
    "\n",
    "# construct scanner to database\n",
    "#trade = ds.Scanner.from_dataset(trade)\n",
    "#quote = ds.Scanner.from_dataset(quote)\n",
    "\n",
    "# connect duckdb to database\n",
    "con = duckdb.connect()"
   ]
  },
  {
   "cell_type": "code",
   "execution_count": null,
   "id": "cb9ae533",
   "metadata": {
    "scrolled": true
   },
   "outputs": [],
   "source": [
    "con.query(\"SELECT * FROM trade WHERE Symbol = 'AAPL' AND Sale_Condition LIKE '%O%'\").df()"
   ]
  },
  {
   "cell_type": "code",
   "execution_count": null,
   "id": "4053e915",
   "metadata": {
    "scrolled": false
   },
   "outputs": [],
   "source": [
    "con.query(\"SELECT DATE_TRUNC('hour',Time) AS one_min, SUM(Trade_Volume), Symbol FROM trade GROUP BY one_min, Symbol ORDER BY one_min\").df()"
   ]
  },
  {
   "cell_type": "code",
   "execution_count": null,
   "id": "41ed8f96",
   "metadata": {},
   "outputs": [],
   "source": [
    "con.query(\"SELECT Symbol,Exchange,AVG(Trade_Price),AVG(Trade_Volume) FROM trade GROUP BY Symbol,Exchange ORDER BY AVG(Trade_Price) DESC\").df()"
   ]
  },
  {
   "cell_type": "code",
   "execution_count": null,
   "id": "90e7ceb0",
   "metadata": {},
   "outputs": [],
   "source": [
    "con.query(\"SELECT DATE_TRUNC('hour', Time) AS hour, Symbol, AVG(0.5*(Offer_Price+Bid_Price)) AS mid FROM quote GROUP BY Symbol, hour ORDER BY hour\").df()"
   ]
  }
 ],
 "metadata": {
  "kernelspec": {
   "display_name": "Python 3 (ipykernel)",
   "language": "python",
   "name": "python3"
  },
  "language_info": {
   "codemirror_mode": {
    "name": "ipython",
    "version": 3
   },
   "file_extension": ".py",
   "mimetype": "text/x-python",
   "name": "python",
   "nbconvert_exporter": "python",
   "pygments_lexer": "ipython3",
   "version": "3.11.0"
  }
 },
 "nbformat": 4,
 "nbformat_minor": 5
}
