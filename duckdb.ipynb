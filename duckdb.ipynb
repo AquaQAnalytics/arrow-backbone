{
 "cells": [
  {
   "cell_type": "code",
   "execution_count": null,
   "id": "87d3640a",
   "metadata": {},
   "outputs": [],
   "source": [
    "import os\n",
    "import io\n",
    "import pyarrow as pa\n",
    "import pyarrow.dataset as ds\n",
    "import duckdb\n",
    "import polars as pl\n",
    "from memory_profiler import profile \n",
    "from datetime import datetime\n",
    "%load_ext memory_profiler\n",
    "%load_ext line_profiler"
   ]
  },
  {
   "cell_type": "code",
   "execution_count": null,
   "id": "e5b8dca9",
   "metadata": {},
   "outputs": [],
   "source": [
    "# data ingest and sort\n",
    "trade = ds.dataset(\"~/data/trade_taq2019.arrow\", format = \"arrow\")\n",
    "quote = ds.dataset(\"~/data/quote_taq2019.arrow\", format = \"arrow\")\n",
    "\n",
    "# construct scanner to database\n",
    "trade = ds.Scanner.from_dataset(trade)\n",
    "quote = ds.Scanner.from_dataset(quote)\n",
    "\n",
    "# connect duckdb to database\n",
    "con = duckdb.connect()"
   ]
  },
  {
   "cell_type": "code",
   "execution_count": null,
   "id": "cb9ae533",
   "metadata": {
    "scrolled": true
   },
   "outputs": [],
   "source": [
    "def window(trade,con):\n",
    "    \n",
    "    # window query\n",
    "    query = \"SELECT * FROM trade WHERE Symbol = 'AAPL' AND Sale_Condition LIKE '%O%'\"\n",
    "    \n",
    "    result = con.query(query).df()\n",
    "\n",
    "    return result\n",
    "\n",
    "%memit m=window(trade,con)\n",
    "m"
   ]
  },
  {
   "cell_type": "code",
   "execution_count": null,
   "id": "4053e915",
   "metadata": {
    "scrolled": false
   },
   "outputs": [],
   "source": [
    "def agg(trade,con):\n",
    "     \n",
    "    # aggregated timebucket query \n",
    "    query = \"SELECT DATE_TRUNC('minute',Time) AS one_min, SUM(Trade_Volume),Symbol FROM trade GROUP BY one_min, Symbol ORDER BY one_min\"\n",
    "\n",
    "    result = con.query(query).df()\n",
    "    \n",
    "    return result\n",
    "\n",
    "%memit m=agg(trade,con)\n",
    "m"
   ]
  },
  {
   "cell_type": "code",
   "execution_count": null,
   "id": "41ed8f96",
   "metadata": {},
   "outputs": [],
   "source": [
    "def new_agg(trade,con):\n",
    "\n",
    "    #aggregating query\n",
    "    query = \"SELECT Symbol,Exchange,AVG(Trade_Price),AVG(Trade_Volume) FROM trade GROUP BY Symbol,Exchange ORDER BY AVG(Trade_Price) DESC\"\n",
    "    \n",
    "    result = con.query(query).df()\n",
    "    \n",
    "    return result\n",
    "\n",
    "%memit m=new_agg(trade,con)\n",
    "m"
   ]
  },
  {
   "cell_type": "code",
   "execution_count": null,
   "id": "90e7ceb0",
   "metadata": {},
   "outputs": [],
   "source": [
    "def bagg(quote,con):\n",
    "    query = \"SELECT DATE_TRUNC('hour', Time) AS hour, Symbol, AVG(0.5*(Offer_Price+Bid_Price)) AS mid FROM quote GROUP BY Symbol, hour ORDER BY hour\"\n",
    "    \n",
    "    result = con.query(query).df()\n",
    "    \n",
    "    return result\n",
    "\n",
    "%memit m=bagg(quote,con)\n",
    "m"
   ]
  },
  {
   "cell_type": "code",
   "execution_count": null,
   "id": "a69649cc",
   "metadata": {},
   "outputs": [],
   "source": []
  }
 ],
 "metadata": {
  "kernelspec": {
   "display_name": "Python 3 (ipykernel)",
   "language": "python",
   "name": "python3"
  },
  "language_info": {
   "codemirror_mode": {
    "name": "ipython",
    "version": 3
   },
   "file_extension": ".py",
   "mimetype": "text/x-python",
   "name": "python",
   "nbconvert_exporter": "python",
   "pygments_lexer": "ipython3",
   "version": "3.11.0"
  }
 },
 "nbformat": 4,
 "nbformat_minor": 5
}
