{
 "cells": [
  {
   "cell_type": "code",
   "execution_count": null,
   "id": "e2dff9a6",
   "metadata": {},
   "outputs": [],
   "source": [
    "import pyarrow.dataset as ds\n",
    "import polars as pl\n",
    "from datetime import datetime\n",
    "%load_ext memory_profiler\n",
    "import time"
   ]
  },
  {
   "cell_type": "code",
   "execution_count": null,
   "id": "e87fdded",
   "metadata": {},
   "outputs": [],
   "source": [
    "trade = ds.dataset(\"~/data/trade_taq2019.arrow\", format = \"arrow\")\n",
    "trade = pl.scan_ds(trade, allow_pyarrow_filter=True)\n",
    "\n",
    "quote = ds.dataset(\"~/data/quote_taq2019.arrow\", format = \"arrow\")\n",
    "quote = pl.scan_ds(quote, allow_pyarrow_filter=True)"
   ]
  },
  {
   "cell_type": "code",
   "execution_count": null,
   "id": "b7174a93",
   "metadata": {},
   "outputs": [],
   "source": [
    "trade.filter(\n",
    "    (pl.col(\"Symbol\") == \"AAPL\")&\n",
    "    (pl.col(\"Sale_Condition\").str.contains(\"O\"))&\n",
    "    (pl.col(\"Time\").is_between(datetime(2019,10,7,9,30), datetime(2019,10,7,16,0)))\n",
    ").collect()"
   ]
  },
  {
   "cell_type": "code",
   "execution_count": null,
   "id": "18d9ceb9",
   "metadata": {},
   "outputs": [],
   "source": [
    "# sort the data first\n",
    "trade = trade.sort(\"Time\")\n",
    "\n",
    "# query\n",
    "trade.groupby_dynamic(index_column=\"Time\", every=\"1h\", period=\"1h\", by=\"Symbol\").agg(\n",
    "[\n",
    "    pl.col(\"Trade_Volume\").sum().alias(\"Total_vol\")\n",
    "]).collect()"
   ]
  },
  {
   "cell_type": "code",
   "execution_count": null,
   "id": "e4ff26e2",
   "metadata": {},
   "outputs": [],
   "source": [
    "# sort the data first\n",
    "quote = quote.sort(\"Time\")\n",
    "\n",
    "# query\n",
    "quote.groupby_dynamic(index_column=\"Time\", every=\"1h\", period=\"1h\", by=\"Symbol\").agg(\n",
    "[\n",
    "    (0.5*(pl.col(\"Bid_Price\")+pl.col(\"Offer_Price\")).mean()).alias(\"mid\"),\n",
    "        pl.col(\"Time\").min().alias(\"min_time\"),\n",
    "        pl.col(\"Time\").max().alias(\"max_time\")\n",
    "]).sort(\"Time\").collect()"
   ]
  }
 ],
 "metadata": {
  "kernelspec": {
   "display_name": "Python 3 (ipykernel)",
   "language": "python",
   "name": "python3"
  },
  "language_info": {
   "codemirror_mode": {
    "name": "ipython",
    "version": 3
   },
   "file_extension": ".py",
   "mimetype": "text/x-python",
   "name": "python",
   "nbconvert_exporter": "python",
   "pygments_lexer": "ipython3",
   "version": "3.11.0"
  }
 },
 "nbformat": 4,
 "nbformat_minor": 5
}
