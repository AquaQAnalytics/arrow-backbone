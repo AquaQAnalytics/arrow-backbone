{
 "cells": [
  {
   "cell_type": "code",
   "execution_count": null,
   "id": "b7c9ccde",
   "metadata": {},
   "outputs": [],
   "source": [
    "import vaex\n",
    "import numpy\n",
    "from datetime import datetime\n",
    "import numpy as np\n",
    "%load_ext memory_profiler\n",
    "import pandas as pd\n"
   ]
  },
  {
   "cell_type": "code",
   "execution_count": null,
   "id": "b4db563f",
   "metadata": {},
   "outputs": [],
   "source": [
    "trade = vaex.open(\"/home/aharte/internal/data/trade_taq2019.arrow\")\n",
    "quote = vaex.open(\"/home/aharte/internal/data/quote_taq2019.arrow\")"
   ]
  },
  {
   "cell_type": "code",
   "execution_count": null,
   "id": "d07c6d4e",
   "metadata": {},
   "outputs": [],
   "source": [
    "result = trade[(trade['Symbol'] == 'AAPL') & \n",
    "      (trade['Sale_Condition'].str.contains('O')) & \n",
    "      (trade['Time'] >= np.datetime64('2019-10-07 09:30')) & \n",
    "      (trade['Time'] <= np.datetime64('2019-10-07 16:00'))]\n",
    "\n",
    "result"
   ]
  },
  {
   "cell_type": "code",
   "execution_count": 12,
   "id": "2b164c96",
   "metadata": {},
   "outputs": [
    {
     "ename": "AssertionError",
     "evalue": "you passed a dataframe with a different dataset to the grouper/binned",
     "output_type": "error",
     "traceback": [
      "\u001b[0;31m---------------------------------------------------------------------------\u001b[0m",
      "\u001b[0;31mAssertionError\u001b[0m                            Traceback (most recent call last)",
      "Cell \u001b[0;32mIn[12], line 1\u001b[0m\n\u001b[0;32m----> 1\u001b[0m result \u001b[38;5;241m=\u001b[39m \u001b[43mtrade\u001b[49m\u001b[38;5;241;43m.\u001b[39;49m\u001b[43mgroupby\u001b[49m\u001b[43m(\u001b[49m\u001b[43mby\u001b[49m\u001b[43m \u001b[49m\u001b[38;5;241;43m=\u001b[39;49m\u001b[43m \u001b[49m\u001b[43m[\u001b[49m\u001b[43mtrade\u001b[49m\u001b[38;5;241;43m.\u001b[39;49m\u001b[43mSymbol\u001b[49m\u001b[43m,\u001b[49m\u001b[43mvaex\u001b[49m\u001b[38;5;241;43m.\u001b[39;49m\u001b[43mBinnerTime\u001b[49m\u001b[43m(\u001b[49m\u001b[43mquote\u001b[49m\u001b[38;5;241;43m.\u001b[39;49m\u001b[43mTime\u001b[49m\u001b[43m,\u001b[49m\u001b[38;5;124;43m'\u001b[39;49m\u001b[38;5;124;43mh\u001b[39;49m\u001b[38;5;124;43m'\u001b[39;49m\u001b[43m)\u001b[49m\u001b[43m]\u001b[49m\u001b[43m,\u001b[49m\n\u001b[1;32m      2\u001b[0m \u001b[43m              \u001b[49m\u001b[43magg\u001b[49m\u001b[43m \u001b[49m\u001b[38;5;241;43m=\u001b[39;49m\u001b[43m \u001b[49m\u001b[43m{\u001b[49m\u001b[38;5;124;43m\"\u001b[39;49m\u001b[38;5;124;43mTotal_vol\u001b[39;49m\u001b[38;5;124;43m\"\u001b[39;49m\u001b[43m:\u001b[49m\u001b[43m \u001b[49m\u001b[43mvaex\u001b[49m\u001b[38;5;241;43m.\u001b[39;49m\u001b[43magg\u001b[49m\u001b[38;5;241;43m.\u001b[39;49m\u001b[43msum\u001b[49m\u001b[43m(\u001b[49m\u001b[38;5;124;43m\"\u001b[39;49m\u001b[38;5;124;43mTrade_Volume\u001b[39;49m\u001b[38;5;124;43m\"\u001b[39;49m\u001b[43m)\u001b[49m\u001b[43m}\u001b[49m\u001b[43m)\u001b[49m\n\u001b[1;32m      4\u001b[0m result\n",
      "File \u001b[0;32m~/virtual/lib/python3.10/site-packages/vaex/dataframe.py:7191\u001b[0m, in \u001b[0;36mDataFrameLocal.groupby\u001b[0;34m(self, by, agg, sort, ascending, assume_sparse, row_limit, copy, progress, delay)\u001b[0m\n\u001b[1;32m   7189\u001b[0m     \u001b[38;5;28;01melse\u001b[39;00m:\n\u001b[1;32m   7190\u001b[0m         \u001b[38;5;28;01mreturn\u001b[39;00m groupby\u001b[38;5;241m.\u001b[39magg(agg, delay\u001b[38;5;241m=\u001b[39mdelay, progress\u001b[38;5;241m=\u001b[39mprogressbar_agg)\n\u001b[0;32m-> 7191\u001b[0m \u001b[38;5;28;01mreturn\u001b[39;00m \u001b[38;5;28;43mself\u001b[39;49m\u001b[38;5;241;43m.\u001b[39;49m\u001b[43m_delay\u001b[49m\u001b[43m(\u001b[49m\u001b[43mdelay\u001b[49m\u001b[43m,\u001b[49m\u001b[43m \u001b[49m\u001b[43mprogressbar\u001b[49m\u001b[38;5;241;43m.\u001b[39;49m\u001b[43mexit_on\u001b[49m\u001b[43m(\u001b[49m\u001b[38;5;28;43mnext\u001b[39;49m\u001b[43m(\u001b[49m\u001b[43mgroupby\u001b[49m\u001b[38;5;241;43m.\u001b[39;49m\u001b[43m_promise_by\u001b[49m\u001b[43m)\u001b[49m\u001b[43m)\u001b[49m\u001b[43m)\u001b[49m\n",
      "File \u001b[0;32m~/virtual/lib/python3.10/site-packages/vaex/dataframe.py:1781\u001b[0m, in \u001b[0;36mDataFrame._delay\u001b[0;34m(self, delay, task, progressbar)\u001b[0m\n\u001b[1;32m   1779\u001b[0m \u001b[38;5;28;01melse\u001b[39;00m:\n\u001b[1;32m   1780\u001b[0m     \u001b[38;5;28mself\u001b[39m\u001b[38;5;241m.\u001b[39mexecute()\n\u001b[0;32m-> 1781\u001b[0m     \u001b[38;5;28;01mreturn\u001b[39;00m \u001b[43mtask\u001b[49m\u001b[38;5;241;43m.\u001b[39;49m\u001b[43mget\u001b[49m\u001b[43m(\u001b[49m\u001b[43m)\u001b[49m\n",
      "File \u001b[0;32m~/virtual/lib/python3.10/site-packages/aplus/__init__.py:170\u001b[0m, in \u001b[0;36mPromise.get\u001b[0;34m(self, timeout)\u001b[0m\n\u001b[1;32m    168\u001b[0m     \u001b[38;5;28;01mreturn\u001b[39;00m \u001b[38;5;28mself\u001b[39m\u001b[38;5;241m.\u001b[39m_value\n\u001b[1;32m    169\u001b[0m \u001b[38;5;28;01melse\u001b[39;00m:\n\u001b[0;32m--> 170\u001b[0m     \u001b[38;5;28;01mraise\u001b[39;00m \u001b[38;5;28mself\u001b[39m\u001b[38;5;241m.\u001b[39m_reason\n",
      "File \u001b[0;32m~/virtual/lib/python3.10/site-packages/vaex/promise.py:121\u001b[0m, in \u001b[0;36mPromise.then.<locals>.callAndReject\u001b[0;34m(r)\u001b[0m\n\u001b[1;32m    119\u001b[0m \u001b[38;5;28;01mtry\u001b[39;00m:\n\u001b[1;32m    120\u001b[0m     \u001b[38;5;28;01mif\u001b[39;00m aplus\u001b[38;5;241m.\u001b[39m_isFunction(failure):\n\u001b[0;32m--> 121\u001b[0m         ret\u001b[38;5;241m.\u001b[39mfulfill(\u001b[43mfailure\u001b[49m\u001b[43m(\u001b[49m\u001b[43mr\u001b[49m\u001b[43m)\u001b[49m)\n\u001b[1;32m    122\u001b[0m     \u001b[38;5;28;01melse\u001b[39;00m:\n\u001b[1;32m    123\u001b[0m         ret\u001b[38;5;241m.\u001b[39mreject(r)\n",
      "File \u001b[0;32m~/virtual/lib/python3.10/site-packages/vaex/progress.py:91\u001b[0m, in \u001b[0;36mProgressTree.exit_on.<locals>.error\u001b[0;34m(arg)\u001b[0m\n\u001b[1;32m     89\u001b[0m \u001b[38;5;28;01mdef\u001b[39;00m \u001b[38;5;21merror\u001b[39m(arg):\n\u001b[1;32m     90\u001b[0m     \u001b[38;5;28mself\u001b[39m\u001b[38;5;241m.\u001b[39mexit()\n\u001b[0;32m---> 91\u001b[0m     \u001b[38;5;28;01mraise\u001b[39;00m arg\n",
      "File \u001b[0;32m~/virtual/lib/python3.10/site-packages/vaex/promise.py:121\u001b[0m, in \u001b[0;36mPromise.then.<locals>.callAndReject\u001b[0;34m(r)\u001b[0m\n\u001b[1;32m    119\u001b[0m \u001b[38;5;28;01mtry\u001b[39;00m:\n\u001b[1;32m    120\u001b[0m     \u001b[38;5;28;01mif\u001b[39;00m aplus\u001b[38;5;241m.\u001b[39m_isFunction(failure):\n\u001b[0;32m--> 121\u001b[0m         ret\u001b[38;5;241m.\u001b[39mfulfill(\u001b[43mfailure\u001b[49m\u001b[43m(\u001b[49m\u001b[43mr\u001b[49m\u001b[43m)\u001b[49m)\n\u001b[1;32m    122\u001b[0m     \u001b[38;5;28;01melse\u001b[39;00m:\n\u001b[1;32m    123\u001b[0m         ret\u001b[38;5;241m.\u001b[39mreject(r)\n",
      "File \u001b[0;32m~/virtual/lib/python3.10/site-packages/vaex/delayed.py:38\u001b[0m, in \u001b[0;36m_log_error.<locals>._wrapped\u001b[0;34m(exc)\u001b[0m\n\u001b[1;32m     35\u001b[0m     \u001b[38;5;28mprint\u001b[39m(\u001b[38;5;124mf\u001b[39m\u001b[38;5;124m\"\u001b[39m\u001b[38;5;124m*** DEBUG: Error from \u001b[39m\u001b[38;5;132;01m{\u001b[39;00mname\u001b[38;5;132;01m}\u001b[39;00m\u001b[38;5;124m\"\u001b[39m, exc)\n\u001b[1;32m     36\u001b[0m \u001b[38;5;66;03m# import vaex\u001b[39;00m\n\u001b[1;32m     37\u001b[0m \u001b[38;5;66;03m# vaex.utils.print_stack_trace()\u001b[39;00m\n\u001b[0;32m---> 38\u001b[0m \u001b[38;5;28;01mraise\u001b[39;00m exc\n",
      "File \u001b[0;32m~/virtual/lib/python3.10/site-packages/vaex/promise.py:121\u001b[0m, in \u001b[0;36mPromise.then.<locals>.callAndReject\u001b[0;34m(r)\u001b[0m\n\u001b[1;32m    119\u001b[0m \u001b[38;5;28;01mtry\u001b[39;00m:\n\u001b[1;32m    120\u001b[0m     \u001b[38;5;28;01mif\u001b[39;00m aplus\u001b[38;5;241m.\u001b[39m_isFunction(failure):\n\u001b[0;32m--> 121\u001b[0m         ret\u001b[38;5;241m.\u001b[39mfulfill(\u001b[43mfailure\u001b[49m\u001b[43m(\u001b[49m\u001b[43mr\u001b[49m\u001b[43m)\u001b[49m)\n\u001b[1;32m    122\u001b[0m     \u001b[38;5;28;01melse\u001b[39;00m:\n\u001b[1;32m    123\u001b[0m         ret\u001b[38;5;241m.\u001b[39mreject(r)\n",
      "File \u001b[0;32m~/virtual/lib/python3.10/site-packages/vaex/progress.py:91\u001b[0m, in \u001b[0;36mProgressTree.exit_on.<locals>.error\u001b[0;34m(arg)\u001b[0m\n\u001b[1;32m     89\u001b[0m \u001b[38;5;28;01mdef\u001b[39;00m \u001b[38;5;21merror\u001b[39m(arg):\n\u001b[1;32m     90\u001b[0m     \u001b[38;5;28mself\u001b[39m\u001b[38;5;241m.\u001b[39mexit()\n\u001b[0;32m---> 91\u001b[0m     \u001b[38;5;28;01mraise\u001b[39;00m arg\n",
      "File \u001b[0;32m~/virtual/lib/python3.10/site-packages/vaex/promise.py:106\u001b[0m, in \u001b[0;36mPromise.then.<locals>.callAndFulfill\u001b[0;34m(v)\u001b[0m\n\u001b[1;32m    104\u001b[0m \u001b[38;5;28;01mtry\u001b[39;00m:\n\u001b[1;32m    105\u001b[0m     \u001b[38;5;28;01mif\u001b[39;00m aplus\u001b[38;5;241m.\u001b[39m_isFunction(success):\n\u001b[0;32m--> 106\u001b[0m         ret\u001b[38;5;241m.\u001b[39mfulfill(\u001b[43msuccess\u001b[49m\u001b[43m(\u001b[49m\u001b[43mv\u001b[49m\u001b[43m)\u001b[49m)\n\u001b[1;32m    107\u001b[0m     \u001b[38;5;28;01melse\u001b[39;00m:\n\u001b[1;32m    108\u001b[0m         ret\u001b[38;5;241m.\u001b[39mfulfill(v)\n",
      "File \u001b[0;32m~/virtual/lib/python3.10/site-packages/vaex/delayed.py:82\u001b[0m, in \u001b[0;36mdelayed.<locals>.wrapped.<locals>.call\u001b[0;34m(_)\u001b[0m\n\u001b[1;32m     80\u001b[0m kwargs_real \u001b[38;5;241m=\u001b[39m {key: promise\u001b[38;5;241m.\u001b[39mget() \u001b[38;5;28;01mfor\u001b[39;00m key, promise \u001b[38;5;129;01min\u001b[39;00m key_promise}\n\u001b[1;32m     81\u001b[0m args_real \u001b[38;5;241m=\u001b[39m \u001b[38;5;28mlist\u001b[39m([promise\u001b[38;5;241m.\u001b[39mget() \u001b[38;5;28;01mfor\u001b[39;00m promise \u001b[38;5;129;01min\u001b[39;00m arg_promises])\n\u001b[0;32m---> 82\u001b[0m \u001b[38;5;28;01mreturn\u001b[39;00m \u001b[43mf\u001b[49m\u001b[43m(\u001b[49m\u001b[38;5;241;43m*\u001b[39;49m\u001b[43margs_real\u001b[49m\u001b[43m,\u001b[49m\u001b[43m \u001b[49m\u001b[38;5;241;43m*\u001b[39;49m\u001b[38;5;241;43m*\u001b[39;49m\u001b[43mkwargs_real\u001b[49m\u001b[43m)\u001b[49m\n",
      "File \u001b[0;32m~/virtual/lib/python3.10/site-packages/vaex/groupby.py:642\u001b[0m, in \u001b[0;36mGroupByBase.__init__.<locals>.possible_combine\u001b[0;34m(*binner_promises)\u001b[0m\n\u001b[1;32m    639\u001b[0m \u001b[38;5;66;03m# because binners can be created from other dataframes (we make a copy)\u001b[39;00m\n\u001b[1;32m    640\u001b[0m \u001b[38;5;66;03m# we let it mutate *our* dataframe\u001b[39;00m\n\u001b[1;32m    641\u001b[0m \u001b[38;5;28;01mfor\u001b[39;00m binner \u001b[38;5;129;01min\u001b[39;00m \u001b[38;5;28mself\u001b[39m\u001b[38;5;241m.\u001b[39mby:\n\u001b[0;32m--> 642\u001b[0m     \u001b[43mbinner\u001b[49m\u001b[38;5;241;43m.\u001b[39;49m\u001b[43m_create_binner\u001b[49m\u001b[43m(\u001b[49m\u001b[38;5;28;43mself\u001b[39;49m\u001b[38;5;241;43m.\u001b[39;49m\u001b[43mdf\u001b[49m\u001b[43m)\u001b[49m\n\u001b[1;32m    643\u001b[0m cells \u001b[38;5;241m=\u001b[39m product([grouper\u001b[38;5;241m.\u001b[39mN \u001b[38;5;28;01mfor\u001b[39;00m grouper \u001b[38;5;129;01min\u001b[39;00m \u001b[38;5;28mself\u001b[39m\u001b[38;5;241m.\u001b[39mby])\n\u001b[1;32m    644\u001b[0m \u001b[38;5;129m@vaex\u001b[39m\u001b[38;5;241m.\u001b[39mdelayed\n\u001b[1;32m    645\u001b[0m \u001b[38;5;28;01mdef\u001b[39;00m \u001b[38;5;21mset_combined\u001b[39m(combined):\n",
      "File \u001b[0;32m~/virtual/lib/python3.10/site-packages/vaex/groupby.py:112\u001b[0m, in \u001b[0;36mBinnerTime._create_binner\u001b[0;34m(self, df)\u001b[0m\n\u001b[1;32m    110\u001b[0m \u001b[38;5;28;01mdef\u001b[39;00m \u001b[38;5;21m_create_binner\u001b[39m(\u001b[38;5;28mself\u001b[39m, df):\n\u001b[1;32m    111\u001b[0m     \u001b[38;5;66;03m# TODO: we modify the dataframe in place, this is not nice\u001b[39;00m\n\u001b[0;32m--> 112\u001b[0m     \u001b[38;5;28;01massert\u001b[39;00m df\u001b[38;5;241m.\u001b[39mdataset \u001b[38;5;241m==\u001b[39m \u001b[38;5;28mself\u001b[39m\u001b[38;5;241m.\u001b[39mdf\u001b[38;5;241m.\u001b[39mdataset, \u001b[38;5;124m\"\u001b[39m\u001b[38;5;124myou passed a dataframe with a different dataset to the grouper/binned\u001b[39m\u001b[38;5;124m\"\u001b[39m\n\u001b[1;32m    113\u001b[0m     \u001b[38;5;28mself\u001b[39m\u001b[38;5;241m.\u001b[39mdf \u001b[38;5;241m=\u001b[39m df\n\u001b[1;32m    114\u001b[0m     \u001b[38;5;28mself\u001b[39m\u001b[38;5;241m.\u001b[39mbegin_name \u001b[38;5;241m=\u001b[39m df\u001b[38;5;241m.\u001b[39madd_variable(\u001b[38;5;124m'\u001b[39m\u001b[38;5;124mt_begin\u001b[39m\u001b[38;5;124m'\u001b[39m, \u001b[38;5;28mself\u001b[39m\u001b[38;5;241m.\u001b[39mtmin\u001b[38;5;241m.\u001b[39mastype(\u001b[38;5;28mself\u001b[39m\u001b[38;5;241m.\u001b[39mresolution_type), unique\u001b[38;5;241m=\u001b[39m\u001b[38;5;28;01mTrue\u001b[39;00m)\n",
      "\u001b[0;31mAssertionError\u001b[0m: you passed a dataframe with a different dataset to the grouper/binned"
     ]
    }
   ],
   "source": [
    "result = trade.groupby(by = [trade.Symbol,vaex.BinnerTime(quote.Time,'h')],\n",
    "              agg = {\"Total_vol\": vaex.agg.sum(\"Trade_Volume\")})\n",
    "\n",
    "result"
   ]
  },
  {
   "cell_type": "code",
   "execution_count": null,
   "id": "04130abe",
   "metadata": {},
   "outputs": [],
   "source": [
    "result = quote.groupby(by = [quote.Symbol,vaex.BinnerTime(quote.Time,'h')],\n",
    "              agg = {'mid': vaex.agg.mean('Offer_Price+Bid_Price/2')})\n",
    "\n",
    "result"
   ]
  },
  {
   "cell_type": "code",
   "execution_count": null,
   "id": "5c78a686",
   "metadata": {},
   "outputs": [],
   "source": []
  }
 ],
 "metadata": {
  "kernelspec": {
   "display_name": "Python 3 (ipykernel)",
   "language": "python",
   "name": "python3"
  },
  "language_info": {
   "codemirror_mode": {
    "name": "ipython",
    "version": 3
   },
   "file_extension": ".py",
   "mimetype": "text/x-python",
   "name": "python",
   "nbconvert_exporter": "python",
   "pygments_lexer": "ipython3",
   "version": "3.10.9"
  }
 },
 "nbformat": 4,
 "nbformat_minor": 5
}
